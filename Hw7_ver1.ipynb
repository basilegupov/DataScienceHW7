{
  "cells": [
    {
      "cell_type": "code",
      "execution_count": 11,
      "metadata": {
        "colab": {
          "base_uri": "https://localhost:8080/"
        },
        "collapsed": true,
        "id": "_W8vqv_a1vRc",
        "outputId": "5f028006-7304-4595-9086-ba28539efe10"
      },
      "outputs": [
        {
          "output_type": "stream",
          "name": "stdout",
          "text": [
            "Requirement already satisfied: surprise in /usr/local/lib/python3.10/dist-packages (0.1)\n",
            "Requirement already satisfied: scikit-surprise in /usr/local/lib/python3.10/dist-packages (from surprise) (1.1.4)\n",
            "Requirement already satisfied: joblib>=1.2.0 in /usr/local/lib/python3.10/dist-packages (from scikit-surprise->surprise) (1.4.2)\n",
            "Requirement already satisfied: numpy>=1.19.5 in /usr/local/lib/python3.10/dist-packages (from scikit-surprise->surprise) (1.26.4)\n",
            "Requirement already satisfied: scipy>=1.6.0 in /usr/local/lib/python3.10/dist-packages (from scikit-surprise->surprise) (1.13.1)\n"
          ]
        }
      ],
      "source": [
        "!pip install surprise"
      ]
    },
    {
      "cell_type": "code",
      "execution_count": 12,
      "metadata": {
        "id": "UQLjtJAYwkdF"
      },
      "outputs": [],
      "source": [
        "import numpy as np\n",
        "import pandas as pd\n",
        "import matplotlib.pyplot as plt\n",
        "from surprise import Dataset, Reader, SVD, SVDpp, NMF\n",
        "from surprise.model_selection import cross_validate, GridSearchCV, train_test_split\n",
        "import random"
      ]
    },
    {
      "cell_type": "code",
      "execution_count": 13,
      "metadata": {
        "id": "ky-p7Py31tH0"
      },
      "outputs": [],
      "source": [
        "# цей код — приклад того, як можна обчислити алгоритм для рекомендацій (приклад, що показує, як можна завантажити\n",
        "# набір даних, розділити його для 5-кратної перехресної перевірки та обчислити MAE та RMSE алгоритму SVD.)\n",
        "# Він використовує дані про фільми та оцінки, щоб створити модель, яка передбачатиме, які фільми можуть сподобатися користувачам.\n",
        "# Потім модель перевіряється, щоб переконатися, що вона працює правильно.\n",
        "\n",
        "data = Dataset.load_builtin('ml-100k')\n",
        "\n",
        "# Використовуйте алгоритм SVD\n",
        "# algo = SVD(): Використовує алгоритм SVD, щоб створити модель, яка передбачатиме, які фільми сподобаються користувачам.\n",
        "\n",
        "# Виконати 5-кратну перехресну перевірку та роздрукувати результат\n",
        "# Перевіряє, наскільки добре працює модель, використовуючи метод під назвою \"крос-валідація\".\n",
        "# Вона ділить дані на 5 частин і перевіряє, наскільки точно модель передбачає оцінки фільмів. Потім виводить результати.\n",
        "# cross_validate(algo, data, measures=['RMSE', 'MAE'], cv=5, verbose=True)"
      ]
    },
    {
      "cell_type": "code",
      "execution_count": 14,
      "metadata": {
        "colab": {
          "base_uri": "https://localhost:8080/",
          "height": 206
        },
        "id": "t4Vl44trSWZ9",
        "outputId": "69ec59da-b007-43be-c605-2ec48076d862"
      },
      "outputs": [
        {
          "output_type": "execute_result",
          "data": {
            "text/plain": [
              "  user item  rating  timestamp\n",
              "0  196  242     3.0  881250949\n",
              "1  186  302     3.0  891717742\n",
              "2   22  377     1.0  878887116\n",
              "3  244   51     2.0  880606923\n",
              "4  166  346     1.0  886397596"
            ],
            "text/html": [
              "\n",
              "  <div id=\"df-9dc61319-914f-46c1-94d0-b1427dbb3a74\" class=\"colab-df-container\">\n",
              "    <div>\n",
              "<style scoped>\n",
              "    .dataframe tbody tr th:only-of-type {\n",
              "        vertical-align: middle;\n",
              "    }\n",
              "\n",
              "    .dataframe tbody tr th {\n",
              "        vertical-align: top;\n",
              "    }\n",
              "\n",
              "    .dataframe thead th {\n",
              "        text-align: right;\n",
              "    }\n",
              "</style>\n",
              "<table border=\"1\" class=\"dataframe\">\n",
              "  <thead>\n",
              "    <tr style=\"text-align: right;\">\n",
              "      <th></th>\n",
              "      <th>user</th>\n",
              "      <th>item</th>\n",
              "      <th>rating</th>\n",
              "      <th>timestamp</th>\n",
              "    </tr>\n",
              "  </thead>\n",
              "  <tbody>\n",
              "    <tr>\n",
              "      <th>0</th>\n",
              "      <td>196</td>\n",
              "      <td>242</td>\n",
              "      <td>3.0</td>\n",
              "      <td>881250949</td>\n",
              "    </tr>\n",
              "    <tr>\n",
              "      <th>1</th>\n",
              "      <td>186</td>\n",
              "      <td>302</td>\n",
              "      <td>3.0</td>\n",
              "      <td>891717742</td>\n",
              "    </tr>\n",
              "    <tr>\n",
              "      <th>2</th>\n",
              "      <td>22</td>\n",
              "      <td>377</td>\n",
              "      <td>1.0</td>\n",
              "      <td>878887116</td>\n",
              "    </tr>\n",
              "    <tr>\n",
              "      <th>3</th>\n",
              "      <td>244</td>\n",
              "      <td>51</td>\n",
              "      <td>2.0</td>\n",
              "      <td>880606923</td>\n",
              "    </tr>\n",
              "    <tr>\n",
              "      <th>4</th>\n",
              "      <td>166</td>\n",
              "      <td>346</td>\n",
              "      <td>1.0</td>\n",
              "      <td>886397596</td>\n",
              "    </tr>\n",
              "  </tbody>\n",
              "</table>\n",
              "</div>\n",
              "    <div class=\"colab-df-buttons\">\n",
              "\n",
              "  <div class=\"colab-df-container\">\n",
              "    <button class=\"colab-df-convert\" onclick=\"convertToInteractive('df-9dc61319-914f-46c1-94d0-b1427dbb3a74')\"\n",
              "            title=\"Convert this dataframe to an interactive table.\"\n",
              "            style=\"display:none;\">\n",
              "\n",
              "  <svg xmlns=\"http://www.w3.org/2000/svg\" height=\"24px\" viewBox=\"0 -960 960 960\">\n",
              "    <path d=\"M120-120v-720h720v720H120Zm60-500h600v-160H180v160Zm220 220h160v-160H400v160Zm0 220h160v-160H400v160ZM180-400h160v-160H180v160Zm440 0h160v-160H620v160ZM180-180h160v-160H180v160Zm440 0h160v-160H620v160Z\"/>\n",
              "  </svg>\n",
              "    </button>\n",
              "\n",
              "  <style>\n",
              "    .colab-df-container {\n",
              "      display:flex;\n",
              "      gap: 12px;\n",
              "    }\n",
              "\n",
              "    .colab-df-convert {\n",
              "      background-color: #E8F0FE;\n",
              "      border: none;\n",
              "      border-radius: 50%;\n",
              "      cursor: pointer;\n",
              "      display: none;\n",
              "      fill: #1967D2;\n",
              "      height: 32px;\n",
              "      padding: 0 0 0 0;\n",
              "      width: 32px;\n",
              "    }\n",
              "\n",
              "    .colab-df-convert:hover {\n",
              "      background-color: #E2EBFA;\n",
              "      box-shadow: 0px 1px 2px rgba(60, 64, 67, 0.3), 0px 1px 3px 1px rgba(60, 64, 67, 0.15);\n",
              "      fill: #174EA6;\n",
              "    }\n",
              "\n",
              "    .colab-df-buttons div {\n",
              "      margin-bottom: 4px;\n",
              "    }\n",
              "\n",
              "    [theme=dark] .colab-df-convert {\n",
              "      background-color: #3B4455;\n",
              "      fill: #D2E3FC;\n",
              "    }\n",
              "\n",
              "    [theme=dark] .colab-df-convert:hover {\n",
              "      background-color: #434B5C;\n",
              "      box-shadow: 0px 1px 3px 1px rgba(0, 0, 0, 0.15);\n",
              "      filter: drop-shadow(0px 1px 2px rgba(0, 0, 0, 0.3));\n",
              "      fill: #FFFFFF;\n",
              "    }\n",
              "  </style>\n",
              "\n",
              "    <script>\n",
              "      const buttonEl =\n",
              "        document.querySelector('#df-9dc61319-914f-46c1-94d0-b1427dbb3a74 button.colab-df-convert');\n",
              "      buttonEl.style.display =\n",
              "        google.colab.kernel.accessAllowed ? 'block' : 'none';\n",
              "\n",
              "      async function convertToInteractive(key) {\n",
              "        const element = document.querySelector('#df-9dc61319-914f-46c1-94d0-b1427dbb3a74');\n",
              "        const dataTable =\n",
              "          await google.colab.kernel.invokeFunction('convertToInteractive',\n",
              "                                                    [key], {});\n",
              "        if (!dataTable) return;\n",
              "\n",
              "        const docLinkHtml = 'Like what you see? Visit the ' +\n",
              "          '<a target=\"_blank\" href=https://colab.research.google.com/notebooks/data_table.ipynb>data table notebook</a>'\n",
              "          + ' to learn more about interactive tables.';\n",
              "        element.innerHTML = '';\n",
              "        dataTable['output_type'] = 'display_data';\n",
              "        await google.colab.output.renderOutput(dataTable, element);\n",
              "        const docLink = document.createElement('div');\n",
              "        docLink.innerHTML = docLinkHtml;\n",
              "        element.appendChild(docLink);\n",
              "      }\n",
              "    </script>\n",
              "  </div>\n",
              "\n",
              "\n",
              "<div id=\"df-b4bded49-3ac6-4b1a-884c-917fdf37106e\">\n",
              "  <button class=\"colab-df-quickchart\" onclick=\"quickchart('df-b4bded49-3ac6-4b1a-884c-917fdf37106e')\"\n",
              "            title=\"Suggest charts\"\n",
              "            style=\"display:none;\">\n",
              "\n",
              "<svg xmlns=\"http://www.w3.org/2000/svg\" height=\"24px\"viewBox=\"0 0 24 24\"\n",
              "     width=\"24px\">\n",
              "    <g>\n",
              "        <path d=\"M19 3H5c-1.1 0-2 .9-2 2v14c0 1.1.9 2 2 2h14c1.1 0 2-.9 2-2V5c0-1.1-.9-2-2-2zM9 17H7v-7h2v7zm4 0h-2V7h2v10zm4 0h-2v-4h2v4z\"/>\n",
              "    </g>\n",
              "</svg>\n",
              "  </button>\n",
              "\n",
              "<style>\n",
              "  .colab-df-quickchart {\n",
              "      --bg-color: #E8F0FE;\n",
              "      --fill-color: #1967D2;\n",
              "      --hover-bg-color: #E2EBFA;\n",
              "      --hover-fill-color: #174EA6;\n",
              "      --disabled-fill-color: #AAA;\n",
              "      --disabled-bg-color: #DDD;\n",
              "  }\n",
              "\n",
              "  [theme=dark] .colab-df-quickchart {\n",
              "      --bg-color: #3B4455;\n",
              "      --fill-color: #D2E3FC;\n",
              "      --hover-bg-color: #434B5C;\n",
              "      --hover-fill-color: #FFFFFF;\n",
              "      --disabled-bg-color: #3B4455;\n",
              "      --disabled-fill-color: #666;\n",
              "  }\n",
              "\n",
              "  .colab-df-quickchart {\n",
              "    background-color: var(--bg-color);\n",
              "    border: none;\n",
              "    border-radius: 50%;\n",
              "    cursor: pointer;\n",
              "    display: none;\n",
              "    fill: var(--fill-color);\n",
              "    height: 32px;\n",
              "    padding: 0;\n",
              "    width: 32px;\n",
              "  }\n",
              "\n",
              "  .colab-df-quickchart:hover {\n",
              "    background-color: var(--hover-bg-color);\n",
              "    box-shadow: 0 1px 2px rgba(60, 64, 67, 0.3), 0 1px 3px 1px rgba(60, 64, 67, 0.15);\n",
              "    fill: var(--button-hover-fill-color);\n",
              "  }\n",
              "\n",
              "  .colab-df-quickchart-complete:disabled,\n",
              "  .colab-df-quickchart-complete:disabled:hover {\n",
              "    background-color: var(--disabled-bg-color);\n",
              "    fill: var(--disabled-fill-color);\n",
              "    box-shadow: none;\n",
              "  }\n",
              "\n",
              "  .colab-df-spinner {\n",
              "    border: 2px solid var(--fill-color);\n",
              "    border-color: transparent;\n",
              "    border-bottom-color: var(--fill-color);\n",
              "    animation:\n",
              "      spin 1s steps(1) infinite;\n",
              "  }\n",
              "\n",
              "  @keyframes spin {\n",
              "    0% {\n",
              "      border-color: transparent;\n",
              "      border-bottom-color: var(--fill-color);\n",
              "      border-left-color: var(--fill-color);\n",
              "    }\n",
              "    20% {\n",
              "      border-color: transparent;\n",
              "      border-left-color: var(--fill-color);\n",
              "      border-top-color: var(--fill-color);\n",
              "    }\n",
              "    30% {\n",
              "      border-color: transparent;\n",
              "      border-left-color: var(--fill-color);\n",
              "      border-top-color: var(--fill-color);\n",
              "      border-right-color: var(--fill-color);\n",
              "    }\n",
              "    40% {\n",
              "      border-color: transparent;\n",
              "      border-right-color: var(--fill-color);\n",
              "      border-top-color: var(--fill-color);\n",
              "    }\n",
              "    60% {\n",
              "      border-color: transparent;\n",
              "      border-right-color: var(--fill-color);\n",
              "    }\n",
              "    80% {\n",
              "      border-color: transparent;\n",
              "      border-right-color: var(--fill-color);\n",
              "      border-bottom-color: var(--fill-color);\n",
              "    }\n",
              "    90% {\n",
              "      border-color: transparent;\n",
              "      border-bottom-color: var(--fill-color);\n",
              "    }\n",
              "  }\n",
              "</style>\n",
              "\n",
              "  <script>\n",
              "    async function quickchart(key) {\n",
              "      const quickchartButtonEl =\n",
              "        document.querySelector('#' + key + ' button');\n",
              "      quickchartButtonEl.disabled = true;  // To prevent multiple clicks.\n",
              "      quickchartButtonEl.classList.add('colab-df-spinner');\n",
              "      try {\n",
              "        const charts = await google.colab.kernel.invokeFunction(\n",
              "            'suggestCharts', [key], {});\n",
              "      } catch (error) {\n",
              "        console.error('Error during call to suggestCharts:', error);\n",
              "      }\n",
              "      quickchartButtonEl.classList.remove('colab-df-spinner');\n",
              "      quickchartButtonEl.classList.add('colab-df-quickchart-complete');\n",
              "    }\n",
              "    (() => {\n",
              "      let quickchartButtonEl =\n",
              "        document.querySelector('#df-b4bded49-3ac6-4b1a-884c-917fdf37106e button');\n",
              "      quickchartButtonEl.style.display =\n",
              "        google.colab.kernel.accessAllowed ? 'block' : 'none';\n",
              "    })();\n",
              "  </script>\n",
              "</div>\n",
              "    </div>\n",
              "  </div>\n"
            ],
            "application/vnd.google.colaboratory.intrinsic+json": {
              "type": "dataframe",
              "variable_name": "df",
              "summary": "{\n  \"name\": \"df\",\n  \"rows\": 100000,\n  \"fields\": [\n    {\n      \"column\": \"user\",\n      \"properties\": {\n        \"dtype\": \"category\",\n        \"num_unique_values\": 943,\n        \"samples\": [\n          \"262\",\n          \"136\",\n          \"821\"\n        ],\n        \"semantic_type\": \"\",\n        \"description\": \"\"\n      }\n    },\n    {\n      \"column\": \"item\",\n      \"properties\": {\n        \"dtype\": \"category\",\n        \"num_unique_values\": 1682,\n        \"samples\": [\n          \"1557\",\n          \"808\",\n          \"1618\"\n        ],\n        \"semantic_type\": \"\",\n        \"description\": \"\"\n      }\n    },\n    {\n      \"column\": \"rating\",\n      \"properties\": {\n        \"dtype\": \"number\",\n        \"std\": 1.125673599144316,\n        \"min\": 1.0,\n        \"max\": 5.0,\n        \"num_unique_values\": 5,\n        \"samples\": [\n          1.0,\n          5.0,\n          2.0\n        ],\n        \"semantic_type\": \"\",\n        \"description\": \"\"\n      }\n    },\n    {\n      \"column\": \"timestamp\",\n      \"properties\": {\n        \"dtype\": \"category\",\n        \"num_unique_values\": 49282,\n        \"samples\": [\n          \"889728713\",\n          \"888443306\",\n          \"880605158\"\n        ],\n        \"semantic_type\": \"\",\n        \"description\": \"\"\n      }\n    }\n  ]\n}"
            }
          },
          "metadata": {},
          "execution_count": 14
        }
      ],
      "source": [
        "# Бере дані про те, які користувачі ставили якісь оцінки (рейтинг) різним речам (наприклад, фільмам).\n",
        "raw_ratings = data.raw_ratings\n",
        "\n",
        "# Створює таблицю (DataFrame) з цих даних і дає імена стовпцям: \"user\" (користувач),\n",
        "# \"item\" (предмет, наприклад, фільм), \"rating\" (оцінка) та \"timestamp\" (час, коли була поставлена ​​оцінка) .\n",
        "df = pd.DataFrame(raw_ratings, columns=['user', 'item', 'rating', 'timestamp'])\n",
        "df.head()"
      ]
    },
    {
      "cell_type": "code",
      "execution_count": 15,
      "metadata": {
        "colab": {
          "base_uri": "https://localhost:8080/"
        },
        "id": "D_s3aURuTGHE",
        "outputId": "2081e5b4-3236-484f-8208-a428141b2b1f"
      },
      "outputs": [
        {
          "output_type": "stream",
          "name": "stdout",
          "text": [
            "Best RMSE score: 0.9231669463273461\n",
            "Best parameters: {'n_epochs': 24, 'lr_all': 0.01, 'reg_all': 0.1}\n"
          ]
        }
      ],
      "source": [
        "# Цей код допомагає знайти найкращі параметри для моделі, щоб вона давала точні передбачення.\n",
        "# param_grid: вибираємо різні параметри (Ці параметри ми вибираємо самостійно.\n",
        "# Можна змінювати для найкращих результатів), які хочемо протестувати, щоб зрозуміти, які дадуть кращий результат.\n",
        "# Наприклад, скільки разів навчати модель (n_epochs), як швидко вона навчається (lr_all),\n",
        "# і наскільки ми хочемо уникнути перенавчання (reg_all).\n",
        "param_grid = {\n",
        "    'n_epochs': [12, 24],\n",
        "    'lr_all': [0.01, 0.03],\n",
        "    'reg_all': [0.1, 0.2]\n",
        "}\n",
        "\n",
        "# GridSearchCV: Ця команда пробує всі можливі комбінації параметрів з param_grid і вибирає найкращі.\n",
        "# Вона використовує метод крос-валідації (cv=3), щоб перевірити, які параметри найкраще підходять для передбачення.\n",
        "gs = GridSearchCV(SVD, param_grid, measures=['rmse', 'mae'], cv=3)\n",
        "\n",
        "# Тут програма навчає модель даних з різними комбінаціями параметрів і вибирає найкращу.\n",
        "gs.fit(data)\n",
        "\n",
        "# Виводить на екран найкращий результат (RMSE) та параметри, що призвели до цього результату.\n",
        "print(\"Best RMSE score:\", gs.best_score['rmse'])\n",
        "print(\"Best parameters:\", gs.best_params['rmse'])"
      ]
    },
    {
      "cell_type": "code",
      "execution_count": 16,
      "metadata": {
        "colab": {
          "base_uri": "https://localhost:8080/"
        },
        "id": "CWmX8letY3tV",
        "outputId": "6b509bb3-5ae4-4f94-9124-dfaac67d0902"
      },
      "outputs": [
        {
          "output_type": "stream",
          "name": "stdout",
          "text": [
            "Evaluating RMSE, MAE of algorithm SVD on 3 split(s).\n",
            "\n",
            "                  Fold 1  Fold 2  Fold 3  Mean    Std     \n",
            "RMSE (testset)    0.9264  0.9252  0.9229  0.9248  0.0014  \n",
            "MAE (testset)     0.7335  0.7311  0.7301  0.7316  0.0014  \n",
            "Fit time          2.05    3.40    4.39    3.28    0.96    \n",
            "Test time         0.43    0.63    0.60    0.55    0.09    \n",
            "\n",
            "Results with the best parameters:\n",
            "RMSE:  0.924813340549017\n",
            "MAE:  0.7315617541188404\n"
          ]
        }
      ],
      "source": [
        "# код оцінює, наскільки хороша модель, використовуючи кращі параметри\n",
        "# створюємо модель SVD і передаємо їй найкращі параметри, які знайшли раніше\n",
        "# (скільки разів навчати модель, швидкість навчання та рівень регуляризації).\n",
        "algo = SVD(n_epochs=gs.best_params['rmse']['n_epochs'],\n",
        "           lr_all=gs.best_params['rmse']['lr_all'],\n",
        "           reg_all=gs.best_params['rmse']['reg_all'])\n",
        "\n",
        "# cross_validate – перевіряємо, наскільки добре наша модель працює. Крос-валідація поділяє дані на 3 частини (cv=3),\n",
        "# щоб навчати модель на одній частині і перевіряти на іншій. Це допомагає зрозуміти наскільки модель точна.\n",
        "results = cross_validate(algo, data, measures=['RMSE', 'MAE'], cv=3, verbose=True)\n",
        "print(\"\\nResults with the best parameters:\")\n",
        "\n",
        "# середні результати після всіх перевірок. RMSE і MAE показують, наскільки добре модель передбачає оцінки\n",
        "print(\"RMSE: \", np.mean(results['test_rmse']))\n",
        "print(\"MAE: \", np.mean(results['test_mae']))"
      ]
    },
    {
      "cell_type": "code",
      "execution_count": 17,
      "metadata": {
        "id": "WsUaz5eMZ0wU"
      },
      "outputs": [],
      "source": [
        "# код допомагає підібрати найкращі параметри для моделі NMF, щоб вона точно передбачала результати.\n",
        "from surprise import NMF\n",
        "\n",
        "# вибираємо параметри, які хочемо протестувати моделі NMF. Ці параметри впливають на те, як модель\n",
        "# навчається і наскільки добре вона передбачає.\n",
        "# Наприклад, скільки разів навчати модель (n_epochs), швидкість навчання для користувачів\n",
        "# та фільмів (lr_bu, lr_bi), і як сильно штрафувати модель за складність (reg_pu, reg_qi).\n",
        "param_grid = {\n",
        "    'n_epochs': [50, 100],\n",
        "    'lr_bu': [0.002, 0.005],\n",
        "    'lr_bi': [0.002, 0.005],\n",
        "    'reg_pu': [0.06, 0.1],\n",
        "    'reg_qi': [0.06, 0.1]\n",
        "}\n",
        "\n",
        "# GridSearchCV: Ця команда пробує різні комбінації параметрів з param_grid і вибирає ті,\n",
        "# які дають найкращий результат.\n",
        "# Вона використовує крос-валідацію (cv=3), щоб перевірити кожну комбінацію.\n",
        "gs = GridSearchCV(NMF, param_grid, measures=['rmse', 'mae'], cv=3)\n",
        "\n",
        "# Програма навчає модель NMF з різними комбінаціями параметрів і знаходить найкращі.\n",
        "gs.fit(data)"
      ]
    },
    {
      "cell_type": "code",
      "execution_count": 18,
      "metadata": {
        "colab": {
          "base_uri": "https://localhost:8080/"
        },
        "id": "1bf4xp8Ca8lz",
        "outputId": "778bf501-0f15-4dbf-d018-56f228a99dbf"
      },
      "outputs": [
        {
          "output_type": "stream",
          "name": "stdout",
          "text": [
            "Best RMSE score for NMF: 0.9440994493382479\n",
            "Best parameters for NMF: {'n_epochs': 100, 'lr_bu': 0.005, 'lr_bi': 0.005, 'reg_pu': 0.1, 'reg_qi': 0.1}\n",
            "Evaluating RMSE, MAE of algorithm NMF on 3 split(s).\n",
            "\n",
            "                  Fold 1  Fold 2  Fold 3  Mean    Std     \n",
            "RMSE (testset)    0.9503  0.9479  0.9478  0.9486  0.0012  \n",
            "MAE (testset)     0.7544  0.7504  0.7495  0.7514  0.0021  \n",
            "Fit time          3.94    7.68    4.37    5.33    1.67    \n",
            "Test time         0.37    0.50    0.37    0.42    0.06    \n",
            "\n",
            "Results with the best parameters for NMF:\n",
            "RMSE:  0.948625874329696\n",
            "MAE:  0.7514351404938409\n"
          ]
        }
      ],
      "source": [
        "# код допомагає оцінити, наскільки добре працює модель NMF з підібраними параметрами\n",
        "# Виводить на екран найкращий результат RMSE (помилка) для моделі NMF та параметри, які дали цей результат.\n",
        "print(\"Best RMSE score for NMF:\", gs.best_score['rmse'])\n",
        "print(\"Best parameters for NMF:\", gs.best_params['rmse'])\n",
        "\n",
        "# Ініціалізація алгоритму з найкращими параметрами\n",
        "best_params = gs.best_params['rmse']\n",
        "\n",
        "# Ми створюємо модель NMF з найкращими параметрами, які знайшли раніше\n",
        "algo_nmf = NMF(n_epochs=best_params['n_epochs'],\n",
        "               lr_bu=best_params['lr_bu'],\n",
        "               lr_bi=best_params['lr_bi'],\n",
        "               reg_pu=best_params['reg_pu'],\n",
        "               reg_qi=best_params['reg_qi'])\n",
        "\n",
        "# cross_validate – перевіряємо, наскільки добре працює наша модель NMF. Використовуємо\n",
        "# крос-валідацію, яка поділяє дані на 3 частини, щоб переконатись, що модель працює точно.\n",
        "results_nmf = cross_validate(algo_nmf, data, measures=['RMSE', 'MAE'], cv=3, verbose=True)\n",
        "\n",
        "# Виводить середні значення RMSE та MAE, які показують, наскільки добре модель передбачає оцінки.\n",
        "print(\"\\nResults with the best parameters for NMF:\")\n",
        "print(\"RMSE: \", np.mean(results_nmf['test_rmse']))\n",
        "print(\"MAE: \", np.mean(results_nmf['test_mae']))"
      ]
    },
    {
      "cell_type": "code",
      "execution_count": 19,
      "metadata": {
        "colab": {
          "base_uri": "https://localhost:8080/"
        },
        "id": "GLy2t7U5gv3h",
        "outputId": "95684d7a-0a01-4eb2-b42c-a0410e751ba4"
      },
      "outputs": [
        {
          "output_type": "stream",
          "name": "stdout",
          "text": [
            "Best RMSE score for SVD++: 0.9220133437157426\n",
            "Best parameters for SVD++: {'n_epochs': 50, 'lr_all': 0.005, 'reg_all': 0.1}\n"
          ]
        }
      ],
      "source": [
        "# код допомагає знайти найкращі параметри для моделі SVD++, щоб вона краще передбачала результати.\n",
        "\n",
        "from surprise import SVDpp\n",
        "from surprise.model_selection import GridSearchCV, cross_validate\n",
        "import numpy as np\n",
        "\n",
        "# визначаємо параметри, які тестуватимемо для моделі SVD++. Наприклад, скільки разів навчати\n",
        "# модель (n_epochs), швидкість навчання (lr_all) і як сильно штрафувати модель за складність (reg_all).\n",
        "param_grid = {\n",
        "    'n_epochs': [20, 50],\n",
        "    'lr_all': [0.005, 0.01],\n",
        "    'reg_all': [0.02, 0.1]\n",
        "}\n",
        "\n",
        "# GridSearchCV: Ця команда тестує всі комбінації параметрів param_grid і вибирає ті, які дають\n",
        "# найкращий результат. Крос-валідація (CV=3) допомагає перевірити точність кожної комбінації.\n",
        "gs = GridSearchCV(SVDpp, param_grid, measures=['rmse', 'mae'], cv=3)\n",
        "\n",
        "# Програма навчає модель SVD++ з різними комбінаціями параметрів і знаходить найкращі з них.\n",
        "gs.fit(data)\n",
        "\n",
        "# Виводить на екран найкращий результат RMSE (помилка) та параметри, що призвели до цього результату.\n",
        "print(\"Best RMSE score for SVD++:\", gs.best_score['rmse'])\n",
        "print(\"Best parameters for SVD++:\", gs.best_params['rmse'])"
      ]
    },
    {
      "cell_type": "code",
      "execution_count": 20,
      "metadata": {
        "id": "V9N8moswhYXc",
        "colab": {
          "base_uri": "https://localhost:8080/"
        },
        "outputId": "50754d56-8b4d-439b-d98b-2bd90b7c4973"
      },
      "outputs": [
        {
          "output_type": "stream",
          "name": "stdout",
          "text": [
            "Evaluating RMSE, MAE of algorithm SVDpp on 3 split(s).\n",
            "\n",
            "                  Fold 1  Fold 2  Fold 3  Mean    Std     \n",
            "RMSE (testset)    0.9187  0.9212  0.9206  0.9202  0.0011  \n",
            "MAE (testset)     0.7260  0.7283  0.7266  0.7270  0.0010  \n",
            "Fit time          48.75   47.69   49.01   48.48   0.57    \n",
            "Test time         8.08    8.22    7.98    8.09    0.10    \n",
            "\n",
            "Results with the best parameters for SVD++:\n",
            "RMSE:  0.9201633638452135\n",
            "MAE:  0.7269843518017197\n"
          ]
        }
      ],
      "source": [
        "# Ми беремо найкращі параметри, які знайшли раніше.\n",
        "best_params = gs.best_params['rmse']\n",
        "# Створюємо модель SVD++ з цими найкращими параметрами\n",
        "algo_svdpp = SVDpp(n_epochs=best_params['n_epochs'],\n",
        "                   lr_all=best_params['lr_all'],\n",
        "                   reg_all=best_params['reg_all'])\n",
        "\n",
        "# cross_validate: Перевіряємо, як добре працює наша модель SVD++ за допомогою крос-валідації. Це робиться для того,\n",
        "# щоб побачити, наскільки точно модель передбачає результати.\n",
        "results_svdpp = cross_validate(algo_svdpp, data, measures=['RMSE', 'MAE'], cv=3, verbose=True)\n",
        "\n",
        "# Виводимо середні значення RMSE (помилка) та MAE (середня абсолютна помилка), щоб побачити, як добре працює модель з вибраними параметрами.\n",
        "print(\"\\nResults with the best parameters for SVD++:\")\n",
        "print(\"RMSE: \", np.mean(results_svdpp['test_rmse']))\n",
        "print(\"MAE: \", np.mean(results_svdpp['test_mae']))"
      ]
    },
    {
      "cell_type": "markdown",
      "metadata": {
        "id": "KBmUBqC8nJaX"
      },
      "source": [
        "Найкращий результат по RMSE:\n",
        "\n",
        "SVD++: 0.9220\n",
        "\n",
        "SVD: 0.9232\n",
        "\n",
        "NMF: 0.9441\n",
        "\n",
        "Таким чином, модель SVD++ має найменшу помилку (RMSE), що робить її найкращою з представлених моделей."
      ]
    }
  ],
  "metadata": {
    "colab": {
      "provenance": []
    },
    "kernelspec": {
      "display_name": "Python 3",
      "name": "python3"
    },
    "language_info": {
      "name": "python"
    }
  },
  "nbformat": 4,
  "nbformat_minor": 0
}